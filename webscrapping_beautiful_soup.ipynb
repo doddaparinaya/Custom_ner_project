{
 "cells": [
  {
   "cell_type": "code",
   "execution_count": null,
   "id": "c0876c59",
   "metadata": {},
   "outputs": [],
   "source": [
    "import pandas as pd\n",
    "\n",
    "import requests\n",
    "from bs4 import BeautifulSoup\n"
   ]
  },
  {
   "cell_type": "code",
   "execution_count": null,
   "id": "d136d3bd",
   "metadata": {},
   "outputs": [],
   "source": [
    "search_query=\"nike+shoes+men\""
   ]
  },
  {
   "cell_type": "code",
   "execution_count": null,
   "id": "ebf88cb1",
   "metadata": {},
   "outputs": [],
   "source": [
    "base_url=\"https://www.amazon.com/s?k=\"\n",
    "url=base_url+search_query\n",
    "url"
   ]
  },
  {
   "cell_type": "code",
   "execution_count": null,
   "id": "e33a02cb",
   "metadata": {},
   "outputs": [],
   "source": [
    "header={'User-Agent': 'Mozilla/5.0 (Windows NT 10.0; Win64; x64) AppleWebKit/537.36 (KHTML, like Gecko) Chrome/77.0.3865.90 Safari/537.36','referer':'https://www.amazon.com/s?k=nike+shoes+men&crid=28WRS5SFLWWZ6&sprefix=nike%2Caps%2C357&ref=nb_sb_ss_organic-diversity_2_4'}"
   ]
  },
  {
   "cell_type": "code",
   "execution_count": null,
   "id": "4788bcff",
   "metadata": {},
   "outputs": [],
   "source": [
    "search_response=requests.get(url,headers=header)"
   ]
  },
  {
   "cell_type": "code",
   "execution_count": null,
   "id": "fd83f714",
   "metadata": {},
   "outputs": [],
   "source": [
    "search_response.status_code"
   ]
  },
  {
   "cell_type": "code",
   "execution_count": null,
   "id": "6c68bf67",
   "metadata": {},
   "outputs": [],
   "source": [
    "search_response.text"
   ]
  },
  {
   "cell_type": "code",
   "execution_count": null,
   "id": "d0522366",
   "metadata": {},
   "outputs": [],
   "source": [
    "search_response.cookies"
   ]
  },
  {
   "cell_type": "code",
   "execution_count": null,
   "id": "6f41a707",
   "metadata": {},
   "outputs": [],
   "source": [
    "cookie={} # insert request cookies within{}\n",
    "def getAmazonSearch(search_query):\n",
    "    url=\"https://www.amazon.com/s?k=\"+search_query\n",
    "    print(url)\n",
    "    page=requests.get(url,headers=header)\n",
    "    if page.status_code==200:\n",
    "        return page\n",
    "    else:\n",
    "        return \"Error\"\n"
   ]
  },
  {
   "cell_type": "code",
   "execution_count": null,
   "id": "432d1014",
   "metadata": {},
   "outputs": [],
   "source": [
    "def Searchasin(asin):\n",
    "    url=\"https://www.amazon.com/dp/\"+asin\n",
    "    print(url)\n",
    "    page=requests.get(url,cookies=cookie,headers=header)\n",
    "    if page.status_code==200:\n",
    "        return page\n",
    "    else:\n",
    "        return \"Error\""
   ]
  },
  {
   "cell_type": "code",
   "execution_count": null,
   "id": "3c6486dc",
   "metadata": {},
   "outputs": [],
   "source": [
    "def Searchreviews(review_link):\n",
    "    url=\"https://www.amazon.com\"+review_link\n",
    "    print(url)\n",
    "    page=requests.get(url,cookies=cookie,headers=header)\n",
    "    if page.status_code==200:\n",
    "        return page\n",
    "    else:\n",
    "        return \"Error\""
   ]
  },
  {
   "cell_type": "code",
   "execution_count": null,
   "id": "bfac29c4",
   "metadata": {},
   "outputs": [],
   "source": [
    "product_names=[]\n",
    "response=getAmazonSearch('nike+shoes+men')\n",
    "soup=BeautifulSoup(response.content)\n",
    "for i in soup.findAll(\"span\",{'class':'a-size-base-plus a-color-base a-text-normal'}): # the tag which is common for all the names of products\n",
    "    product_names.append(i.text) #adding the product names to the list\n"
   ]
  },
  {
   "cell_type": "code",
   "execution_count": null,
   "id": "df770bba",
   "metadata": {},
   "outputs": [],
   "source": [
    "product_names"
   ]
  },
  {
   "cell_type": "code",
   "execution_count": null,
   "id": "d007ac11",
   "metadata": {},
   "outputs": [],
   "source": [
    "\n",
    "len(product_names)"
   ]
  },
  {
   "cell_type": "code",
   "execution_count": null,
   "id": "fec1c70b",
   "metadata": {},
   "outputs": [],
   "source": [
    "data_asin=[]\n",
    "response=getAmazonSearch('nike+shoes+men')\n",
    "soup=BeautifulSoup(response.content)\n",
    "for i in soup.findAll(\"div\",{'class':\"sg-col-4-of-24 sg-col-4-of-12 s-result-item s-asin sg-col-4-of-16 sg-col s-widget-spacing-small sg-col-4-of-20\"}):\n",
    "    data_asin.append(i['data-asin'])"
   ]
  },
  {
   "cell_type": "code",
   "execution_count": null,
   "id": "e2c2b4f3",
   "metadata": {},
   "outputs": [],
   "source": [
    "response.status_code\n"
   ]
  },
  {
   "cell_type": "code",
   "execution_count": null,
   "id": "f18c4716",
   "metadata": {},
   "outputs": [],
   "source": [
    "data_asin"
   ]
  },
  {
   "cell_type": "code",
   "execution_count": null,
   "id": "36de7ca0",
   "metadata": {},
   "outputs": [],
   "source": [
    "len(data_asin)"
   ]
  },
  {
   "cell_type": "code",
   "execution_count": null,
   "id": "59723494",
   "metadata": {},
   "outputs": [],
   "source": [
    "link=[]\n",
    "for i in range(len(data_asin)):\n",
    "    response=Searchasin(data_asin[i])\n",
    "    soup=BeautifulSoup(response.content)\n",
    "    for i in soup.findAll(\"a\",{'data-hook':\"see-all-reviews-link-foot\"}):\n",
    "        link.append(i['href'])"
   ]
  },
  {
   "cell_type": "code",
   "execution_count": null,
   "id": "49c0ea7e",
   "metadata": {},
   "outputs": [],
   "source": [
    "len(link)"
   ]
  },
  {
   "cell_type": "code",
   "execution_count": null,
   "id": "68f0020c",
   "metadata": {
    "scrolled": false
   },
   "outputs": [],
   "source": [
    "link"
   ]
  },
  {
   "cell_type": "code",
   "execution_count": null,
   "id": "333d5094",
   "metadata": {},
   "outputs": [],
   "source": [
    "#taking 96 records casuing time limit so i decide to use 50 links\n",
    "reviews=[]\n",
    "for j in range(10):\n",
    "    for k in range(100):\n",
    "        response=Searchreviews(link[j]+'&pageNumber='+str(k))\n",
    "        soup=BeautifulSoup(response.content) \n",
    "        for i in soup.findAll(\"span\",{'data-hook':\"review-body\"}):\n",
    "            reviews.append(i.text) "
   ]
  },
  {
   "cell_type": "code",
   "execution_count": null,
   "id": "dade3249",
   "metadata": {
    "scrolled": true
   },
   "outputs": [],
   "source": [
    "  reviews"
   ]
  },
  {
   "cell_type": "code",
   "execution_count": null,
   "id": "4a98d862",
   "metadata": {},
   "outputs": [],
   "source": [
    "p=[]\n",
    "for i in reviews:\n",
    "    i=i.strip('\\n')\n",
    "    if i!='':\n",
    "        p.append(i)\n",
    "print(p)"
   ]
  },
  {
   "cell_type": "code",
   "execution_count": null,
   "id": "e451c9a1",
   "metadata": {},
   "outputs": [],
   "source": [
    "file1 = open('myfile.txt', 'w')\n",
    "for i in p:\n",
    "    file1.write(i)\n",
    "    file1.write('\\n')\n",
    "file1.close()"
   ]
  },
  {
   "cell_type": "code",
   "execution_count": null,
   "id": "c2efb1c9",
   "metadata": {},
   "outputs": [],
   "source": [
    "with open('myfile.txt') as f:\n",
    "    lines=f.readlines()\n",
    "print(lines)"
   ]
  }
 ],
 "metadata": {
  "kernelspec": {
   "display_name": "Python 3 (ipykernel)",
   "language": "python",
   "name": "python3"
  },
  "language_info": {
   "codemirror_mode": {
    "name": "ipython",
    "version": 3
   },
   "file_extension": ".py",
   "mimetype": "text/x-python",
   "name": "python",
   "nbconvert_exporter": "python",
   "pygments_lexer": "ipython3",
   "version": "3.9.12"
  }
 },
 "nbformat": 4,
 "nbformat_minor": 5
}
