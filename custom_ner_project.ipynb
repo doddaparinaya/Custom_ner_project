{
 "cells": [
  {
   "cell_type": "code",
   "execution_count": null,
   "id": "d058c6db",
   "metadata": {},
   "outputs": [],
   "source": [
    "import spacy\n",
    "nlp=spacy.load('en_core_web_sm')"
   ]
  },
  {
   "cell_type": "code",
   "execution_count": null,
   "id": "40e05a0e",
   "metadata": {},
   "outputs": [],
   "source": [
    "text='Iam parinaya,Iam good Machine Learning.'\n",
    "doc = nlp(text)\n",
    "from spacy import displacy\n",
    "displacy.render(doc, style=\"ent\", jupyter=True)"
   ]
  },
  {
   "cell_type": "code",
   "execution_count": null,
   "id": "b598bc3d",
   "metadata": {},
   "outputs": [],
   "source": [
    "import json\n",
    "# https://www.kaggle.com/datasets/finalepoch/medical-ner \n",
    "with open('sodhi.json', 'r') as f:\n",
    "    training_data = json.load(f)"
   ]
  },
  {
   "cell_type": "code",
   "execution_count": null,
   "id": "9fcc9582",
   "metadata": {},
   "outputs": [],
   "source": [
    "training_data"
   ]
  },
  {
   "cell_type": "code",
   "execution_count": null,
   "id": "bf26d4f8",
   "metadata": {},
   "outputs": [],
   "source": [
    "import spacy\n",
    "from spacy.tokens import DocBin\n",
    "\n",
    "\n",
    "nlp = spacy.blank(\"en\") # load a new spacy model\n",
    "doc_bin = DocBin()"
   ]
  },
  {
   "cell_type": "code",
   "execution_count": null,
   "id": "313c9894",
   "metadata": {},
   "outputs": [],
   "source": [
    "classes=training_data['classes']"
   ]
  },
  {
   "cell_type": "code",
   "execution_count": null,
   "id": "b6fcef35",
   "metadata": {},
   "outputs": [],
   "source": [
    "TRAIN_DATA = []\n",
    "for text, annotation in training_data[\"annotations\"]:\n",
    "    entities = annotation[\"entities\"]\n",
    "    entities_spacy = [(start, end, label) for start, end, label in entities]\n",
    "    TRAIN_DATA.append((text, {\"entities\": entities_spacy}))\n"
   ]
  },
  {
   "cell_type": "code",
   "execution_count": null,
   "id": "477f320f",
   "metadata": {},
   "outputs": [],
   "source": [
    "TRAIN_DATA"
   ]
  },
  {
   "cell_type": "code",
   "execution_count": null,
   "id": "1927af64",
   "metadata": {},
   "outputs": [],
   "source": [
    "def train_ner(nlp, train_data, classes):\n",
    "    ner = nlp.add_pipe(\"ner\", last=True)\n",
    "    \n",
    "    for label in classes:\n",
    "        ner.add_label(label)\n",
    "\n",
    "    optimizer = nlp.initialize()\n",
    "    for i in range(10):  # Adjust the number of iterations as needed\n",
    "        losses = {}\n",
    "        for text, annotations in train_data:\n",
    "            example = Example.from_dict(nlp.make_doc(text), annotations)\n",
    "            nlp.update([example], sgd=optimizer, losses=losses)\n",
    "        print(\"Iteration:\", i + 1, \"Losses:\", losses)\n",
    "\n",
    "# Train the NER model\n",
    "train_ner(nlp, TRAIN_DATA, classes)"
   ]
  },
  {
   "cell_type": "code",
   "execution_count": null,
   "id": "b733e5fd",
   "metadata": {},
   "outputs": [],
   "source": [
    "output_dir = \"model1\"\n",
    "nlp.to_disk(output_dir)\n",
    "print(\"Saved model to\", output_dir)"
   ]
  },
  {
   "cell_type": "code",
   "execution_count": null,
   "id": "2fc8c805",
   "metadata": {},
   "outputs": [],
   "source": [
    "loaded_nlp = spacy.load(output_dir)"
   ]
  },
  {
   "cell_type": "code",
   "execution_count": null,
   "id": "4984b8c9",
   "metadata": {},
   "outputs": [],
   "source": [
    "test_text = \"I am parinaya, and I am good at Machine Learning.\"\n",
    "doc = loaded_nlp(test_text)\n",
    "for ent in doc.ents:\n",
    "    print(ent.text, ent.label_)"
   ]
  },
  {
   "cell_type": "code",
   "execution_count": null,
   "id": "985b33b9",
   "metadata": {},
   "outputs": [],
   "source": []
  },
  {
   "cell_type": "code",
   "execution_count": null,
   "id": "e3ee7167",
   "metadata": {},
   "outputs": [],
   "source": [
    "import json\n",
    "# https://www.kaggle.com/datasets/finalepoch/medical-ner \n",
    "with open('annotations.json', 'r') as f:\n",
    "    training_data = json.load(f)"
   ]
  },
  {
   "cell_type": "code",
   "execution_count": null,
   "id": "9ee6dea8",
   "metadata": {},
   "outputs": [],
   "source": [
    "training_data"
   ]
  },
  {
   "cell_type": "code",
   "execution_count": null,
   "id": "badeefa2",
   "metadata": {},
   "outputs": [],
   "source": [
    "import spacy\n",
    "from spacy.tokens import DocBin\n",
    "\n",
    "\n",
    "nlp = spacy.blank(\"en\") # load a new spacy model\n",
    "doc_bin = DocBin()"
   ]
  },
  {
   "cell_type": "code",
   "execution_count": null,
   "id": "aabcbbd2",
   "metadata": {},
   "outputs": [],
   "source": [
    "classes=training_data['classes']"
   ]
  },
  {
   "cell_type": "code",
   "execution_count": null,
   "id": "e89a7f13",
   "metadata": {},
   "outputs": [],
   "source": [
    "TRAIN_DATA = []\n",
    "for text, annotation in training_data[\"annotations\"]:\n",
    "    entities = annotation[\"entities\"]\n",
    "    entities_spacy = [(start, end, label) for start, end, label in entities]\n",
    "    TRAIN_DATA.append((text, {\"entities\": entities_spacy}))\n"
   ]
  },
  {
   "cell_type": "code",
   "execution_count": null,
   "id": "3de347db",
   "metadata": {},
   "outputs": [],
   "source": [
    "TRAIN_DATA"
   ]
  },
  {
   "cell_type": "code",
   "execution_count": null,
   "id": "9921a77f",
   "metadata": {},
   "outputs": [],
   "source": [
    "def train_ner(nlp, train_data, classes):\n",
    "    ner = nlp.add_pipe(\"ner\", last=True)\n",
    "    \n",
    "    for label in classes:\n",
    "        ner.add_label(label)\n",
    "\n",
    "    optimizer = nlp.initialize()\n",
    "    for i in range(10):  # Adjust the number of iterations as needed\n",
    "        losses = {}\n",
    "        for text, annotations in train_data:\n",
    "            example = Example.from_dict(nlp.make_doc(text), annotations)\n",
    "            nlp.update([example], sgd=optimizer, losses=losses)\n",
    "        print(\"Iteration:\", i + 1, \"Losses:\", losses)\n",
    "\n",
    "# Train the NER model\n",
    "train_ner(nlp, TRAIN_DATA, classes)\n"
   ]
  },
  {
   "cell_type": "code",
   "execution_count": null,
   "id": "fe2a06aa",
   "metadata": {},
   "outputs": [],
   "source": [
    "output_dir = \"model2\"\n",
    "nlp.to_disk(output_dir)\n",
    "print(\"Saved model to\", output_dir)"
   ]
  },
  {
   "cell_type": "code",
   "execution_count": null,
   "id": "d37f641c",
   "metadata": {},
   "outputs": [],
   "source": [
    "loaded_nlp = spacy.load(output_dir)"
   ]
  }
 ],
 "metadata": {
  "kernelspec": {
   "display_name": "Python 3 (ipykernel)",
   "language": "python",
   "name": "python3"
  },
  "language_info": {
   "codemirror_mode": {
    "name": "ipython",
    "version": 3
   },
   "file_extension": ".py",
   "mimetype": "text/x-python",
   "name": "python",
   "nbconvert_exporter": "python",
   "pygments_lexer": "ipython3",
   "version": "3.9.12"
  }
 },
 "nbformat": 4,
 "nbformat_minor": 5
}
